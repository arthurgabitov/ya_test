{
 "cells": [
  {
   "cell_type": "markdown",
   "metadata": {
    "toc": true
   },
   "source": [
    "<h1>Содержание<span class=\"tocSkip\"></span></h1>\n",
    "<div class=\"toc\"><ul class=\"toc-item\"><li><span><a href=\"#Подготовка-данных\" data-toc-modified-id=\"Подготовка-данных-1\"><span class=\"toc-item-num\">1&nbsp;&nbsp;</span>Подготовка данных</a></span></li><li><span><a href=\"#Исследование-задачи\" data-toc-modified-id=\"Исследование-задачи-2\"><span class=\"toc-item-num\">2&nbsp;&nbsp;</span>Исследование задачи</a></span></li><li><span><a href=\"#Борьба-с-дисбалансом\" data-toc-modified-id=\"Борьба-с-дисбалансом-3\"><span class=\"toc-item-num\">3&nbsp;&nbsp;</span>Борьба с дисбалансом</a></span><ul class=\"toc-item\"><li><span><a href=\"#Upsampling\" data-toc-modified-id=\"Upsampling-3.1\"><span class=\"toc-item-num\">3.1&nbsp;&nbsp;</span>Upsampling</a></span></li><li><span><a href=\"#Downsampling\" data-toc-modified-id=\"Downsampling-3.2\"><span class=\"toc-item-num\">3.2&nbsp;&nbsp;</span>Downsampling</a></span></li></ul></li><li><span><a href=\"#Тестирование-модели\" data-toc-modified-id=\"Тестирование-модели-4\"><span class=\"toc-item-num\">4&nbsp;&nbsp;</span>Тестирование модели</a></span></li><li><span><a href=\"#Выводы\" data-toc-modified-id=\"Выводы-5\"><span class=\"toc-item-num\">5&nbsp;&nbsp;</span>Выводы</a></span></li><li><span><a href=\"#Чек-лист-готовности-проекта\" data-toc-modified-id=\"Чек-лист-готовности-проекта-6\"><span class=\"toc-item-num\">6&nbsp;&nbsp;</span>Чек-лист готовности проекта</a></span></li></ul></div>"
   ]
  },
  {
   "cell_type": "markdown",
   "metadata": {},
   "source": [
    "# Отток клиентов"
   ]
  },
  {
   "cell_type": "markdown",
   "metadata": {},
   "source": [
    "Из «Бета-Банка» стали уходить клиенты. Каждый месяц. Немного, но заметно. Банковские маркетологи посчитали: сохранять текущих клиентов дешевле, чем привлекать новых.\n",
    "\n",
    "Нужно спрогнозировать, уйдёт клиент из банка в ближайшее время или нет. Вам предоставлены исторические данные о поведении клиентов и расторжении договоров с банком. \n",
    "\n",
    "Постройте модель с предельно большим значением *F1*-меры. Чтобы сдать проект успешно, нужно довести метрику до 0.59. Проверьте *F1*-меру на тестовой выборке самостоятельно.\n",
    "\n",
    "Дополнительно измеряйте *AUC-ROC*, сравнивайте её значение с *F1*-мерой.\n",
    "\n",
    "Источник данных: [https://www.kaggle.com/barelydedicated/bank-customer-churn-modeling](https://www.kaggle.com/barelydedicated/bank-customer-churn-modeling)"
   ]
  },
  {
   "cell_type": "markdown",
   "metadata": {},
   "source": [
    "## Подготовка данных"
   ]
  },
  {
   "cell_type": "code",
   "execution_count": 1,
   "metadata": {},
   "outputs": [],
   "source": [
    "import pandas as pd\n",
    "from sklearn.preprocessing import MinMaxScaler\n",
    "from sklearn.utils import shuffle\n",
    "from sklearn.model_selection import train_test_split, GridSearchCV, KFold\n",
    "import numpy as np\n",
    "from sklearn.linear_model import LogisticRegression\n",
    "from sklearn.ensemble import RandomForestClassifier\n",
    "\n",
    "import matplotlib.pyplot as plt \n",
    "from sklearn.metrics import roc_curve, roc_auc_score, accuracy_score, f1_score\n",
    "\n",
    "\n",
    "from sklearn.pipeline import Pipeline, make_pipeline"
   ]
  },
  {
   "cell_type": "code",
   "execution_count": 2,
   "metadata": {},
   "outputs": [],
   "source": [
    "kf = KFold(n_splits=5, random_state=42, shuffle=True)"
   ]
  },
  {
   "cell_type": "code",
   "execution_count": 3,
   "metadata": {},
   "outputs": [],
   "source": [
    "df = pd.read_csv(\"/datasets/Churn.csv\")"
   ]
  },
  {
   "cell_type": "code",
   "execution_count": 4,
   "metadata": {},
   "outputs": [
    {
     "data": {
      "text/html": [
       "<div>\n",
       "<style scoped>\n",
       "    .dataframe tbody tr th:only-of-type {\n",
       "        vertical-align: middle;\n",
       "    }\n",
       "\n",
       "    .dataframe tbody tr th {\n",
       "        vertical-align: top;\n",
       "    }\n",
       "\n",
       "    .dataframe thead th {\n",
       "        text-align: right;\n",
       "    }\n",
       "</style>\n",
       "<table border=\"1\" class=\"dataframe\">\n",
       "  <thead>\n",
       "    <tr style=\"text-align: right;\">\n",
       "      <th></th>\n",
       "      <th>RowNumber</th>\n",
       "      <th>CustomerId</th>\n",
       "      <th>Surname</th>\n",
       "      <th>CreditScore</th>\n",
       "      <th>Geography</th>\n",
       "      <th>Gender</th>\n",
       "      <th>Age</th>\n",
       "      <th>Tenure</th>\n",
       "      <th>Balance</th>\n",
       "      <th>NumOfProducts</th>\n",
       "      <th>HasCrCard</th>\n",
       "      <th>IsActiveMember</th>\n",
       "      <th>EstimatedSalary</th>\n",
       "      <th>Exited</th>\n",
       "    </tr>\n",
       "  </thead>\n",
       "  <tbody>\n",
       "    <tr>\n",
       "      <th>0</th>\n",
       "      <td>1</td>\n",
       "      <td>15634602</td>\n",
       "      <td>Hargrave</td>\n",
       "      <td>619</td>\n",
       "      <td>France</td>\n",
       "      <td>Female</td>\n",
       "      <td>42</td>\n",
       "      <td>2.0</td>\n",
       "      <td>0.00</td>\n",
       "      <td>1</td>\n",
       "      <td>1</td>\n",
       "      <td>1</td>\n",
       "      <td>101348.88</td>\n",
       "      <td>1</td>\n",
       "    </tr>\n",
       "    <tr>\n",
       "      <th>1</th>\n",
       "      <td>2</td>\n",
       "      <td>15647311</td>\n",
       "      <td>Hill</td>\n",
       "      <td>608</td>\n",
       "      <td>Spain</td>\n",
       "      <td>Female</td>\n",
       "      <td>41</td>\n",
       "      <td>1.0</td>\n",
       "      <td>83807.86</td>\n",
       "      <td>1</td>\n",
       "      <td>0</td>\n",
       "      <td>1</td>\n",
       "      <td>112542.58</td>\n",
       "      <td>0</td>\n",
       "    </tr>\n",
       "    <tr>\n",
       "      <th>2</th>\n",
       "      <td>3</td>\n",
       "      <td>15619304</td>\n",
       "      <td>Onio</td>\n",
       "      <td>502</td>\n",
       "      <td>France</td>\n",
       "      <td>Female</td>\n",
       "      <td>42</td>\n",
       "      <td>8.0</td>\n",
       "      <td>159660.80</td>\n",
       "      <td>3</td>\n",
       "      <td>1</td>\n",
       "      <td>0</td>\n",
       "      <td>113931.57</td>\n",
       "      <td>1</td>\n",
       "    </tr>\n",
       "    <tr>\n",
       "      <th>3</th>\n",
       "      <td>4</td>\n",
       "      <td>15701354</td>\n",
       "      <td>Boni</td>\n",
       "      <td>699</td>\n",
       "      <td>France</td>\n",
       "      <td>Female</td>\n",
       "      <td>39</td>\n",
       "      <td>1.0</td>\n",
       "      <td>0.00</td>\n",
       "      <td>2</td>\n",
       "      <td>0</td>\n",
       "      <td>0</td>\n",
       "      <td>93826.63</td>\n",
       "      <td>0</td>\n",
       "    </tr>\n",
       "    <tr>\n",
       "      <th>4</th>\n",
       "      <td>5</td>\n",
       "      <td>15737888</td>\n",
       "      <td>Mitchell</td>\n",
       "      <td>850</td>\n",
       "      <td>Spain</td>\n",
       "      <td>Female</td>\n",
       "      <td>43</td>\n",
       "      <td>2.0</td>\n",
       "      <td>125510.82</td>\n",
       "      <td>1</td>\n",
       "      <td>1</td>\n",
       "      <td>1</td>\n",
       "      <td>79084.10</td>\n",
       "      <td>0</td>\n",
       "    </tr>\n",
       "  </tbody>\n",
       "</table>\n",
       "</div>"
      ],
      "text/plain": [
       "   RowNumber  CustomerId   Surname  CreditScore Geography  Gender  Age  \\\n",
       "0          1    15634602  Hargrave          619    France  Female   42   \n",
       "1          2    15647311      Hill          608     Spain  Female   41   \n",
       "2          3    15619304      Onio          502    France  Female   42   \n",
       "3          4    15701354      Boni          699    France  Female   39   \n",
       "4          5    15737888  Mitchell          850     Spain  Female   43   \n",
       "\n",
       "   Tenure    Balance  NumOfProducts  HasCrCard  IsActiveMember  \\\n",
       "0     2.0       0.00              1          1               1   \n",
       "1     1.0   83807.86              1          0               1   \n",
       "2     8.0  159660.80              3          1               0   \n",
       "3     1.0       0.00              2          0               0   \n",
       "4     2.0  125510.82              1          1               1   \n",
       "\n",
       "   EstimatedSalary  Exited  \n",
       "0        101348.88       1  \n",
       "1        112542.58       0  \n",
       "2        113931.57       1  \n",
       "3         93826.63       0  \n",
       "4         79084.10       0  "
      ]
     },
     "metadata": {},
     "output_type": "display_data"
    }
   ],
   "source": [
    "display(df.head())"
   ]
  },
  {
   "cell_type": "markdown",
   "metadata": {},
   "source": [
    "Признаки:\n",
    "\n",
    "- RowNumber — индекс строки в данных\n",
    "- CustomerId — уникальный идентификатор клиента\n",
    "- Surname — фамилия\n",
    "- CreditScore — кредитный рейтинг\n",
    "- Geography — страна проживания\n",
    "- Gender — пол\n",
    "- Age — возраст\n",
    "- Tenure — количество недвижимости у клиента\n",
    "- Balance — баланс на счёте\n",
    "- NumOfProducts — количество продуктов банка, используемых клиентом\n",
    "- HasCrCard — наличие кредитной карты\n",
    "- IsActiveMember — активность клиента\n",
    "- EstimatedSalary — предполагаемая зарплата\n",
    "\n",
    "Целевой признак:\n",
    "\n",
    "- Exited — факт ухода клиента"
   ]
  },
  {
   "cell_type": "code",
   "execution_count": 5,
   "metadata": {},
   "outputs": [],
   "source": [
    "# удалим ненужные в данной задаче столбцы\n",
    "df=df.drop(['RowNumber','CustomerId','Surname'], axis=1)"
   ]
  },
  {
   "cell_type": "code",
   "execution_count": 6,
   "metadata": {},
   "outputs": [
    {
     "name": "stdout",
     "output_type": "stream",
     "text": [
      "<class 'pandas.core.frame.DataFrame'>\n",
      "RangeIndex: 10000 entries, 0 to 9999\n",
      "Data columns (total 11 columns):\n",
      " #   Column           Non-Null Count  Dtype  \n",
      "---  ------           --------------  -----  \n",
      " 0   CreditScore      10000 non-null  int64  \n",
      " 1   Geography        10000 non-null  object \n",
      " 2   Gender           10000 non-null  object \n",
      " 3   Age              10000 non-null  int64  \n",
      " 4   Tenure           9091 non-null   float64\n",
      " 5   Balance          10000 non-null  float64\n",
      " 6   NumOfProducts    10000 non-null  int64  \n",
      " 7   HasCrCard        10000 non-null  int64  \n",
      " 8   IsActiveMember   10000 non-null  int64  \n",
      " 9   EstimatedSalary  10000 non-null  float64\n",
      " 10  Exited           10000 non-null  int64  \n",
      "dtypes: float64(3), int64(6), object(2)\n",
      "memory usage: 859.5+ KB\n"
     ]
    }
   ],
   "source": [
    "df.info()"
   ]
  },
  {
   "cell_type": "code",
   "execution_count": 6,
   "metadata": {},
   "outputs": [
    {
     "data": {
      "text/html": [
       "<div>\n",
       "<style scoped>\n",
       "    .dataframe tbody tr th:only-of-type {\n",
       "        vertical-align: middle;\n",
       "    }\n",
       "\n",
       "    .dataframe tbody tr th {\n",
       "        vertical-align: top;\n",
       "    }\n",
       "\n",
       "    .dataframe thead th {\n",
       "        text-align: right;\n",
       "    }\n",
       "</style>\n",
       "<table border=\"1\" class=\"dataframe\">\n",
       "  <thead>\n",
       "    <tr style=\"text-align: right;\">\n",
       "      <th></th>\n",
       "      <th>count</th>\n",
       "      <th>mean</th>\n",
       "      <th>std</th>\n",
       "      <th>min</th>\n",
       "      <th>25%</th>\n",
       "      <th>50%</th>\n",
       "      <th>75%</th>\n",
       "      <th>max</th>\n",
       "    </tr>\n",
       "  </thead>\n",
       "  <tbody>\n",
       "    <tr>\n",
       "      <th>CreditScore</th>\n",
       "      <td>10000.0</td>\n",
       "      <td>650.528800</td>\n",
       "      <td>96.653299</td>\n",
       "      <td>350.00</td>\n",
       "      <td>584.00</td>\n",
       "      <td>652.000</td>\n",
       "      <td>718.0000</td>\n",
       "      <td>850.00</td>\n",
       "    </tr>\n",
       "    <tr>\n",
       "      <th>Age</th>\n",
       "      <td>10000.0</td>\n",
       "      <td>38.921800</td>\n",
       "      <td>10.487806</td>\n",
       "      <td>18.00</td>\n",
       "      <td>32.00</td>\n",
       "      <td>37.000</td>\n",
       "      <td>44.0000</td>\n",
       "      <td>92.00</td>\n",
       "    </tr>\n",
       "    <tr>\n",
       "      <th>Tenure</th>\n",
       "      <td>9091.0</td>\n",
       "      <td>4.997690</td>\n",
       "      <td>2.894723</td>\n",
       "      <td>0.00</td>\n",
       "      <td>2.00</td>\n",
       "      <td>5.000</td>\n",
       "      <td>7.0000</td>\n",
       "      <td>10.00</td>\n",
       "    </tr>\n",
       "    <tr>\n",
       "      <th>Balance</th>\n",
       "      <td>10000.0</td>\n",
       "      <td>76485.889288</td>\n",
       "      <td>62397.405202</td>\n",
       "      <td>0.00</td>\n",
       "      <td>0.00</td>\n",
       "      <td>97198.540</td>\n",
       "      <td>127644.2400</td>\n",
       "      <td>250898.09</td>\n",
       "    </tr>\n",
       "    <tr>\n",
       "      <th>NumOfProducts</th>\n",
       "      <td>10000.0</td>\n",
       "      <td>1.530200</td>\n",
       "      <td>0.581654</td>\n",
       "      <td>1.00</td>\n",
       "      <td>1.00</td>\n",
       "      <td>1.000</td>\n",
       "      <td>2.0000</td>\n",
       "      <td>4.00</td>\n",
       "    </tr>\n",
       "    <tr>\n",
       "      <th>HasCrCard</th>\n",
       "      <td>10000.0</td>\n",
       "      <td>0.705500</td>\n",
       "      <td>0.455840</td>\n",
       "      <td>0.00</td>\n",
       "      <td>0.00</td>\n",
       "      <td>1.000</td>\n",
       "      <td>1.0000</td>\n",
       "      <td>1.00</td>\n",
       "    </tr>\n",
       "    <tr>\n",
       "      <th>IsActiveMember</th>\n",
       "      <td>10000.0</td>\n",
       "      <td>0.515100</td>\n",
       "      <td>0.499797</td>\n",
       "      <td>0.00</td>\n",
       "      <td>0.00</td>\n",
       "      <td>1.000</td>\n",
       "      <td>1.0000</td>\n",
       "      <td>1.00</td>\n",
       "    </tr>\n",
       "    <tr>\n",
       "      <th>EstimatedSalary</th>\n",
       "      <td>10000.0</td>\n",
       "      <td>100090.239881</td>\n",
       "      <td>57510.492818</td>\n",
       "      <td>11.58</td>\n",
       "      <td>51002.11</td>\n",
       "      <td>100193.915</td>\n",
       "      <td>149388.2475</td>\n",
       "      <td>199992.48</td>\n",
       "    </tr>\n",
       "    <tr>\n",
       "      <th>Exited</th>\n",
       "      <td>10000.0</td>\n",
       "      <td>0.203700</td>\n",
       "      <td>0.402769</td>\n",
       "      <td>0.00</td>\n",
       "      <td>0.00</td>\n",
       "      <td>0.000</td>\n",
       "      <td>0.0000</td>\n",
       "      <td>1.00</td>\n",
       "    </tr>\n",
       "  </tbody>\n",
       "</table>\n",
       "</div>"
      ],
      "text/plain": [
       "                   count           mean           std     min       25%  \\\n",
       "CreditScore      10000.0     650.528800     96.653299  350.00    584.00   \n",
       "Age              10000.0      38.921800     10.487806   18.00     32.00   \n",
       "Tenure            9091.0       4.997690      2.894723    0.00      2.00   \n",
       "Balance          10000.0   76485.889288  62397.405202    0.00      0.00   \n",
       "NumOfProducts    10000.0       1.530200      0.581654    1.00      1.00   \n",
       "HasCrCard        10000.0       0.705500      0.455840    0.00      0.00   \n",
       "IsActiveMember   10000.0       0.515100      0.499797    0.00      0.00   \n",
       "EstimatedSalary  10000.0  100090.239881  57510.492818   11.58  51002.11   \n",
       "Exited           10000.0       0.203700      0.402769    0.00      0.00   \n",
       "\n",
       "                        50%          75%        max  \n",
       "CreditScore         652.000     718.0000     850.00  \n",
       "Age                  37.000      44.0000      92.00  \n",
       "Tenure                5.000       7.0000      10.00  \n",
       "Balance           97198.540  127644.2400  250898.09  \n",
       "NumOfProducts         1.000       2.0000       4.00  \n",
       "HasCrCard             1.000       1.0000       1.00  \n",
       "IsActiveMember        1.000       1.0000       1.00  \n",
       "EstimatedSalary  100193.915  149388.2475  199992.48  \n",
       "Exited                0.000       0.0000       1.00  "
      ]
     },
     "execution_count": 6,
     "metadata": {},
     "output_type": "execute_result"
    }
   ],
   "source": [
    "df.describe().T"
   ]
  },
  {
   "cell_type": "code",
   "execution_count": 7,
   "metadata": {},
   "outputs": [],
   "source": [
    "#Заполнение пропусков\n",
    "df['Tenure']=df['Tenure'].fillna(0).astype('int8')"
   ]
  },
  {
   "cell_type": "code",
   "execution_count": 8,
   "metadata": {},
   "outputs": [
    {
     "name": "stdout",
     "output_type": "stream",
     "text": [
      "<class 'pandas.core.frame.DataFrame'>\n",
      "RangeIndex: 10000 entries, 0 to 9999\n",
      "Data columns (total 11 columns):\n",
      " #   Column           Non-Null Count  Dtype  \n",
      "---  ------           --------------  -----  \n",
      " 0   CreditScore      10000 non-null  int64  \n",
      " 1   Geography        10000 non-null  object \n",
      " 2   Gender           10000 non-null  object \n",
      " 3   Age              10000 non-null  int64  \n",
      " 4   Tenure           10000 non-null  int8   \n",
      " 5   Balance          10000 non-null  float64\n",
      " 6   NumOfProducts    10000 non-null  int64  \n",
      " 7   HasCrCard        10000 non-null  int64  \n",
      " 8   IsActiveMember   10000 non-null  int64  \n",
      " 9   EstimatedSalary  10000 non-null  float64\n",
      " 10  Exited           10000 non-null  int64  \n",
      "dtypes: float64(2), int64(6), int8(1), object(2)\n",
      "memory usage: 791.1+ KB\n"
     ]
    }
   ],
   "source": [
    "df.info()"
   ]
  },
  {
   "cell_type": "markdown",
   "metadata": {},
   "source": [
    "Теперь можем приступать к исследованию задачи"
   ]
  },
  {
   "cell_type": "markdown",
   "metadata": {},
   "source": [
    "## Исследование задачи"
   ]
  },
  {
   "cell_type": "code",
   "execution_count": 9,
   "metadata": {},
   "outputs": [
    {
     "data": {
      "image/png": "[encoded data removed]",
      "text/plain": [
       "<Figure size 504x432 with 1 Axes>"
      ]
     },
     "metadata": {
      "needs_background": "light"
     },
     "output_type": "display_data"
    }
   ],
   "source": [
    "df['Exited'].value_counts().plot(kind='bar',grid=True,figsize=(7,6),title='факт ухода клиента')\n",
    "plt.show()"
   ]
  },
  {
   "cell_type": "markdown",
   "metadata": {},
   "source": [
    "Из графика отчетливо видим дисбаланс классов - 4 к 1"
   ]
  },
  {
   "cell_type": "markdown",
   "metadata": {},
   "source": [
    "Необходимо подготовить признаки. Применим метод OHE и масштабирование"
   ]
  },
  {
   "cell_type": "code",
   "execution_count": 10,
   "metadata": {},
   "outputs": [],
   "source": [
    "df_ohe=pd.get_dummies(df,drop_first=True)"
   ]
  },
  {
   "cell_type": "code",
   "execution_count": 12,
   "metadata": {},
   "outputs": [],
   "source": [
    "features = df_ohe.drop(\"Exited\", axis=1)\n",
    "target = df[\"Exited\"]"
   ]
  },
  {
   "cell_type": "markdown",
   "metadata": {},
   "source": [
    "Выделим обучающую, валидационную и тестовую выборки. "
   ]
  },
  {
   "cell_type": "code",
   "execution_count": 13,
   "metadata": {},
   "outputs": [],
   "source": [
    "features_train, features_test0, target_train, target_test0 = train_test_split(features, target, \n",
    "                                                                              test_size=0.4, \n",
    "                                                                              random_state=1)"
   ]
  },
  {
   "cell_type": "code",
   "execution_count": 14,
   "metadata": {},
   "outputs": [],
   "source": [
    "features_valid, features_test, target_valid, target_test = train_test_split(features_test0, target_test0, \n",
    "                                                                              test_size=0.5, \n",
    "                                                                              random_state=1)"
   ]
  },
  {
   "cell_type": "code",
   "execution_count": 15,
   "metadata": {},
   "outputs": [],
   "source": [
    "numeric = ['CreditScore', 'Age', 'Tenure', 'Balance', 'NumOfProducts', 'EstimatedSalary']"
   ]
  },
  {
   "cell_type": "code",
   "execution_count": 16,
   "metadata": {},
   "outputs": [
    {
     "data": {
      "text/plain": [
       "MinMaxScaler()"
      ]
     },
     "execution_count": 16,
     "metadata": {},
     "output_type": "execute_result"
    }
   ],
   "source": [
    "scaler = MinMaxScaler()\n",
    "scaler.fit(features_train[numeric])"
   ]
  },
  {
   "cell_type": "code",
   "execution_count": 17,
   "metadata": {},
   "outputs": [],
   "source": [
    "features_train_scaled = features_train.copy(deep=True)\n",
    "features_train_scaled[numeric] = scaler.transform(features_train[numeric])\n",
    "\n",
    "features_valid_scaled = features_valid.copy(deep=True)\n",
    "features_valid_scaled[numeric] = scaler.transform(features_valid[numeric])\n",
    "\n",
    "features_test_scaled = features_test.copy(deep=True)\n",
    "features_test_scaled[numeric] = scaler.transform(features_test[numeric])"
   ]
  },
  {
   "cell_type": "markdown",
   "metadata": {},
   "source": [
    "Logistic Regression"
   ]
  },
  {
   "cell_type": "code",
   "execution_count": 18,
   "metadata": {},
   "outputs": [
    {
     "name": "stdout",
     "output_type": "stream",
     "text": [
      "Accuracy: 0.812\n",
      "F1: 0.32616487455197135\n",
      "CPU times: user 44.4 ms, sys: 17.1 ms, total: 61.5 ms\n",
      "Wall time: 69.5 ms\n"
     ]
    }
   ],
   "source": [
    "%%time\n",
    "\n",
    "model = LogisticRegression(solver='liblinear', random_state=12345)\n",
    "model.fit(features_train_scaled, target_train)\n",
    "predictions = model.predict(features_valid_scaled)\n",
    "print(\"Accuracy:\", accuracy_score(predictions, target_valid))\n",
    "print(\"F1:\", f1_score(predictions, target_valid))"
   ]
  },
  {
   "cell_type": "markdown",
   "metadata": {},
   "source": [
    "Random Forest"
   ]
  },
  {
   "cell_type": "code",
   "execution_count": 19,
   "metadata": {},
   "outputs": [
    {
     "name": "stdout",
     "output_type": "stream",
     "text": [
      "RandomForestClassifier(max_depth=11, n_estimators=40)\n",
      "accuracy: 0.865\n",
      "F1: 0.5945945945945946\n",
      "CPU times: user 30.9 s, sys: 105 ms, total: 31 s\n",
      "Wall time: 31.3 s\n"
     ]
    }
   ],
   "source": [
    "%%time\n",
    "\n",
    "model_RF = RandomForestClassifier()\n",
    "param_grid = { \n",
    "    'n_estimators': [10, 20, 30, 40, 50],\n",
    "    'max_depth' : [5,7,9,11,13,15]\n",
    "}\n",
    "\n",
    "CV_model_RF = GridSearchCV(estimator=model_RF, param_grid=param_grid, cv=5)\n",
    "CV_model_RF.fit(features_train_scaled, target_train)\n",
    "\n",
    "predictions = CV_model_RF.best_estimator_.predict(features_valid_scaled)\n",
    "print(CV_model_RF.best_estimator_)\n",
    "print(\"accuracy:\", accuracy_score(predictions, target_valid))\n",
    "print(\"F1:\", f1_score(predictions, target_valid))"
   ]
  },
  {
   "cell_type": "markdown",
   "metadata": {},
   "source": [
    "Модель случайного леса показывает лучшие результаты. При глубине=13 и количество наблюдателей=30 - метрика f1=0.59. Далее будем работать именно с этой моделью."
   ]
  },
  {
   "cell_type": "markdown",
   "metadata": {},
   "source": [
    "## Борьба с дисбалансом"
   ]
  },
  {
   "cell_type": "markdown",
   "metadata": {},
   "source": [
    "### Upsampling"
   ]
  },
  {
   "cell_type": "code",
   "execution_count": 20,
   "metadata": {},
   "outputs": [],
   "source": [
    "def upsample(features, target, repeat):\n",
    "    features_zeros = features[target == 0]\n",
    "    features_ones = features[target == 1]\n",
    "    target_zeros = target[target == 0]\n",
    "    target_ones = target[target == 1]\n",
    "\n",
    "    features_upsampled = pd.concat([features_zeros] + [features_ones] * repeat)\n",
    "    target_upsampled = pd.concat([target_zeros] + [target_ones] * repeat)\n",
    "    \n",
    "    features_upsampled, target_upsampled = shuffle(\n",
    "        features_upsampled, target_upsampled, random_state=12345)\n",
    "    \n",
    "    return features_upsampled, target_upsampled"
   ]
  },
  {
   "cell_type": "code",
   "execution_count": 21,
   "metadata": {},
   "outputs": [],
   "source": [
    "features_upsampled_train, target_upsampled_train = upsample(features_train_scaled, target_train, 4)"
   ]
  },
  {
   "cell_type": "code",
   "execution_count": 22,
   "metadata": {},
   "outputs": [
    {
     "name": "stdout",
     "output_type": "stream",
     "text": [
      "CPU times: user 5 µs, sys: 0 ns, total: 5 µs\n",
      "Wall time: 9.3 µs\n"
     ]
    }
   ],
   "source": [
    "%%time\n",
    "\n",
    "#CV_model_RF = GridSearchCV(estimator=model_RF, param_grid=param_grid, cv=5)\n",
    "#CV_model_RF.fit(features_upsampled_train, target_upsampled_train)\n",
    "\n",
    "#predictions = CV_model_RF.best_estimator_.predict(features_valid)\n",
    "#print(\"accuracy:\", accuracy_score(predictions, target_valid))\n",
    "#print(\"F1:\", f1_score(predictions, target_valid))\n",
    "\n",
    "def score_model(model, params, cv=None):\n",
    "    if cv is None:\n",
    "        cv = KFold(n_splits=5, random_state=42)\n",
    "    scores = []\n",
    "\n",
    "    for train_fold_index, val_fold_index in cv.split(features_train_scaled, target_train):\n",
    "        X_train_fold, X_val_fold, y_train_fold, y_val_fold = train_test_split(features_train_scaled, target_train, \n",
    "                                                                              test_size=0.4, \n",
    "                                                                              random_state=12345)\n",
    "        \n",
    "        \n",
    "        \n",
    "\n",
    "        X_train_fold_upsample, y_train_fold_upsample = upsample(X_train_fold, y_train_fold, 4)\n",
    "        model_obj = model(**params).fit(X_train_fold_upsample, y_train_fold_upsample)\n",
    "        score = f1_score(model_obj.predict(X_val_fold), y_val_fold)\n",
    "        scores.append(score)\n",
    "    return np.array(scores)"
   ]
  },
  {
   "cell_type": "code",
   "execution_count": 27,
   "metadata": {},
   "outputs": [],
   "source": [
    "score_tracker = []\n",
    "for n_estimators in param_grid['n_estimators']:\n",
    "    for max_depth in param_grid['max_depth']:\n",
    "        example_params = {\n",
    "            'n_estimators': n_estimators,\n",
    "            'max_depth': max_depth,\n",
    "            'random_state': 12345\n",
    "        }\n",
    "        example_params['f1'] = score_model(RandomForestClassifier, \n",
    "                                               example_params, cv=kf).mean()\n",
    "        score_tracker.append(example_params)"
   ]
  },
  {
   "cell_type": "code",
   "execution_count": 28,
   "metadata": {},
   "outputs": [
    {
     "data": {
      "text/plain": [
       "[{'n_estimators': 40,\n",
       "  'max_depth': 9,\n",
       "  'random_state': 12345,\n",
       "  'f1': 0.5918173168411037},\n",
       " {'n_estimators': 50,\n",
       "  'max_depth': 9,\n",
       "  'random_state': 12345,\n",
       "  'f1': 0.5876777251184834},\n",
       " {'n_estimators': 50,\n",
       "  'max_depth': 11,\n",
       "  'random_state': 12345,\n",
       "  'f1': 0.5873836608066184},\n",
       " {'n_estimators': 40,\n",
       "  'max_depth': 7,\n",
       "  'random_state': 12345,\n",
       "  'f1': 0.5873015873015873},\n",
       " {'n_estimators': 30,\n",
       "  'max_depth': 7,\n",
       "  'random_state': 12345,\n",
       "  'f1': 0.587188612099644},\n",
       " {'n_estimators': 30,\n",
       "  'max_depth': 11,\n",
       "  'random_state': 12345,\n",
       "  'f1': 0.586171310629515},\n",
       " {'n_estimators': 50,\n",
       "  'max_depth': 7,\n",
       "  'random_state': 12345,\n",
       "  'f1': 0.5842293906810035},\n",
       " {'n_estimators': 30,\n",
       "  'max_depth': 9,\n",
       "  'random_state': 12345,\n",
       "  'f1': 0.5829428303655109},\n",
       " {'n_estimators': 20,\n",
       "  'max_depth': 11,\n",
       "  'random_state': 12345,\n",
       "  'f1': 0.5823045267489712},\n",
       " {'n_estimators': 20,\n",
       "  'max_depth': 5,\n",
       "  'random_state': 12345,\n",
       "  'f1': 0.5811965811965811},\n",
       " {'n_estimators': 30,\n",
       "  'max_depth': 5,\n",
       "  'random_state': 12345,\n",
       "  'f1': 0.5811384876805438},\n",
       " {'n_estimators': 40,\n",
       "  'max_depth': 11,\n",
       "  'random_state': 12345,\n",
       "  'f1': 0.5795918367346938},\n",
       " {'n_estimators': 20,\n",
       "  'max_depth': 9,\n",
       "  'random_state': 12345,\n",
       "  'f1': 0.5770676691729323},\n",
       " {'n_estimators': 40,\n",
       "  'max_depth': 5,\n",
       "  'random_state': 12345,\n",
       "  'f1': 0.5764411027568922},\n",
       " {'n_estimators': 10,\n",
       "  'max_depth': 5,\n",
       "  'random_state': 12345,\n",
       "  'f1': 0.575152041702867},\n",
       " {'n_estimators': 10,\n",
       "  'max_depth': 9,\n",
       "  'random_state': 12345,\n",
       "  'f1': 0.5751391465677179},\n",
       " {'n_estimators': 50,\n",
       "  'max_depth': 5,\n",
       "  'random_state': 12345,\n",
       "  'f1': 0.5750000000000001},\n",
       " {'n_estimators': 20,\n",
       "  'max_depth': 7,\n",
       "  'random_state': 12345,\n",
       "  'f1': 0.5737410071942445},\n",
       " {'n_estimators': 10,\n",
       "  'max_depth': 7,\n",
       "  'random_state': 12345,\n",
       "  'f1': 0.5716783216783218},\n",
       " {'n_estimators': 10,\n",
       "  'max_depth': 11,\n",
       "  'random_state': 12345,\n",
       "  'f1': 0.5630676084762866},\n",
       " {'n_estimators': 30,\n",
       "  'max_depth': 13,\n",
       "  'random_state': 12345,\n",
       "  'f1': 0.5601750547045953},\n",
       " {'n_estimators': 50,\n",
       "  'max_depth': 13,\n",
       "  'random_state': 12345,\n",
       "  'f1': 0.5598243688254665},\n",
       " {'n_estimators': 40,\n",
       "  'max_depth': 15,\n",
       "  'random_state': 12345,\n",
       "  'f1': 0.55906432748538},\n",
       " {'n_estimators': 30,\n",
       "  'max_depth': 15,\n",
       "  'random_state': 12345,\n",
       "  'f1': 0.5542725173210161},\n",
       " {'n_estimators': 40,\n",
       "  'max_depth': 13,\n",
       "  'random_state': 12345,\n",
       "  'f1': 0.5542168674698795},\n",
       " {'n_estimators': 20,\n",
       "  'max_depth': 13,\n",
       "  'random_state': 12345,\n",
       "  'f1': 0.5505984766050054},\n",
       " {'n_estimators': 20,\n",
       "  'max_depth': 15,\n",
       "  'random_state': 12345,\n",
       "  'f1': 0.5409836065573771},\n",
       " {'n_estimators': 50,\n",
       "  'max_depth': 15,\n",
       "  'random_state': 12345,\n",
       "  'f1': 0.5407319952774499},\n",
       " {'n_estimators': 10,\n",
       "  'max_depth': 13,\n",
       "  'random_state': 12345,\n",
       "  'f1': 0.5362637362637362},\n",
       " {'n_estimators': 10,\n",
       "  'max_depth': 15,\n",
       "  'random_state': 12345,\n",
       "  'f1': 0.5128805620608898}]"
      ]
     },
     "execution_count": 28,
     "metadata": {},
     "output_type": "execute_result"
    }
   ],
   "source": [
    "sorted(score_tracker, key=lambda x: x['f1'], reverse=True)"
   ]
  },
  {
   "cell_type": "markdown",
   "metadata": {},
   "source": [
    "The best estimator: \n",
    "\n",
    "{'n_estimators': 40,\n",
    "  'max_depth': 9,\n",
    "  'random_state': 12345,\n",
    "  'f1': 0.5918173168411037}"
   ]
  },
  {
   "cell_type": "code",
   "execution_count": 29,
   "metadata": {},
   "outputs": [
    {
     "data": {
      "text/plain": [
       "0.6219895287958116"
      ]
     },
     "execution_count": 29,
     "metadata": {},
     "output_type": "execute_result"
    }
   ],
   "source": [
    "rf = RandomForestClassifier(n_estimators=40, max_depth=9, random_state=12345)\n",
    "rf.fit(features_upsampled_train, target_upsampled_train)\n",
    "f1_score(target_valid, rf.predict(features_valid_scaled))"
   ]
  },
  {
   "cell_type": "code",
   "execution_count": 30,
   "metadata": {},
   "outputs": [
    {
     "name": "stdout",
     "output_type": "stream",
     "text": [
      "0.8636159871472218\n"
     ]
    }
   ],
   "source": [
    "probabilities_valid = rf.predict_proba(features_valid_scaled)\n",
    "probabilities_one_valid = probabilities_valid[:, 1]\n",
    "\n",
    "auc_roc = roc_auc_score(target_valid, probabilities_one_valid)\n",
    "print(auc_roc)"
   ]
  },
  {
   "cell_type": "code",
   "execution_count": 31,
   "metadata": {},
   "outputs": [
    {
     "data": {
      "image/png": "[encoded data removed]",
      "text/plain": [
       "<Figure size 432x288 with 1 Axes>"
      ]
     },
     "metadata": {
      "needs_background": "light"
     },
     "output_type": "display_data"
    }
   ],
   "source": [
    "fpr, tpr, thresholds = roc_curve(target_valid, probabilities_one_valid) \n",
    "\n",
    "plt.figure()\n",
    "\n",
    "plt.plot([0, 1], [0, 1], linestyle='--')\n",
    "plt.plot(fpr, tpr)\n",
    "plt.xlim([0.0, 1.0])\n",
    "plt.ylim([0.0, 1.0])\n",
    "plt.xlabel('False Positive Rate')\n",
    "plt.ylabel('True Positive Rate')\n",
    "plt.title('ROC-кривая')\n",
    "plt.show()"
   ]
  },
  {
   "cell_type": "markdown",
   "metadata": {},
   "source": [
    "### Downsampling"
   ]
  },
  {
   "cell_type": "code",
   "execution_count": 32,
   "metadata": {},
   "outputs": [],
   "source": [
    "def downsample(features, target, fraction):\n",
    "    features_zeros = features[target == 0]\n",
    "    features_ones = features[target == 1]\n",
    "    target_zeros = target[target == 0]\n",
    "    target_ones = target[target == 1]\n",
    "\n",
    "    features_downsampled = pd.concat(\n",
    "        [features_zeros.sample(frac=fraction, random_state=12345)] + [features_ones])\n",
    "    target_downsampled = pd.concat(\n",
    "        [target_zeros.sample(frac=fraction, random_state=12345)] + [target_ones])\n",
    "    \n",
    "    features_downsampled, target_downsampled = shuffle(\n",
    "        features_downsampled, target_downsampled, random_state=12345)\n",
    "    \n",
    "    return features_downsampled, target_downsampled"
   ]
  },
  {
   "cell_type": "code",
   "execution_count": 33,
   "metadata": {},
   "outputs": [],
   "source": [
    "features_downsampled_train, target_downsampled_train = downsample(features_train_scaled, target_train, 0.5)"
   ]
  },
  {
   "cell_type": "code",
   "execution_count": 34,
   "metadata": {},
   "outputs": [
    {
     "name": "stdout",
     "output_type": "stream",
     "text": [
      "CPU times: user 6 µs, sys: 0 ns, total: 6 µs\n",
      "Wall time: 10 µs\n"
     ]
    }
   ],
   "source": [
    "%%time\n",
    "\n",
    "#CV_model_RF = GridSearchCV(estimator=model_RF, param_grid=param_grid, cv=5)\n",
    "#CV_model_RF.fit(features_downsampled_train, target_downsampled_train)\n",
    "#\n",
    "#predictions = CV_model_RF.best_estimator_.predict(features_valid)\n",
    "#print(\"accuracy:\", accuracy_score(predictions, target_valid))\n",
    "#print(\"F1:\", f1_score(predictions, target_valid))\n",
    "\n",
    "def score_model_downsampled(model, params, cv=None):\n",
    "    if cv is None:\n",
    "        cv = KFold(n_splits=5, random_state=42)\n",
    "    scores = []\n",
    "\n",
    "    for train_fold_index, val_fold_index in cv.split(features_train_scaled, target_train):\n",
    "        X_train_fold, X_val_fold, y_train_fold, y_val_fold = train_test_split(features_train_scaled, target_train, \n",
    "                                                                              test_size=0.4, \n",
    "                                                                              random_state=12345)\n",
    "        \n",
    "        \n",
    "        \n",
    "\n",
    "        X_train_fold_downsample, y_train_fold_downsample = downsample(X_train_fold, y_train_fold, 0.5)\n",
    "        model_obj = model(**params).fit(X_train_fold_downsample, y_train_fold_downsample)\n",
    "        score = f1_score(model_obj.predict(X_val_fold), y_val_fold)\n",
    "        scores.append(score)\n",
    "    return np.array(scores)\n",
    "\n"
   ]
  },
  {
   "cell_type": "code",
   "execution_count": 35,
   "metadata": {},
   "outputs": [],
   "source": [
    "score_tracker_downsampled = []\n",
    "for n_estimators in param_grid['n_estimators']:\n",
    "    for max_depth in param_grid['max_depth']:\n",
    "        example_params = {\n",
    "            'n_estimators': n_estimators,\n",
    "            'max_depth': max_depth,\n",
    "            'random_state': 12345\n",
    "        }\n",
    "        example_params['f1'] = score_model_downsampled(RandomForestClassifier,example_params, cv=kf).mean()\n",
    "        score_tracker_downsampled.append(example_params)"
   ]
  },
  {
   "cell_type": "code",
   "execution_count": 36,
   "metadata": {
    "scrolled": true
   },
   "outputs": [
    {
     "data": {
      "text/plain": [
       "[{'n_estimators': 30,\n",
       "  'max_depth': 9,\n",
       "  'random_state': 12345,\n",
       "  'f1': 0.6006528835690967},\n",
       " {'n_estimators': 40,\n",
       "  'max_depth': 15,\n",
       "  'random_state': 12345,\n",
       "  'f1': 0.5958333333333334},\n",
       " {'n_estimators': 50,\n",
       "  'max_depth': 11,\n",
       "  'random_state': 12345,\n",
       "  'f1': 0.5944206008583691},\n",
       " {'n_estimators': 30,\n",
       "  'max_depth': 13,\n",
       "  'random_state': 12345,\n",
       "  'f1': 0.5895833333333332},\n",
       " {'n_estimators': 30,\n",
       "  'max_depth': 11,\n",
       "  'random_state': 12345,\n",
       "  'f1': 0.586864406779661},\n",
       " {'n_estimators': 40,\n",
       "  'max_depth': 13,\n",
       "  'random_state': 12345,\n",
       "  'f1': 0.5867507886435331},\n",
       " {'n_estimators': 30,\n",
       "  'max_depth': 7,\n",
       "  'random_state': 12345,\n",
       "  'f1': 0.5859728506787331},\n",
       " {'n_estimators': 50,\n",
       "  'max_depth': 9,\n",
       "  'random_state': 12345,\n",
       "  'f1': 0.5852585258525852},\n",
       " {'n_estimators': 20,\n",
       "  'max_depth': 11,\n",
       "  'random_state': 12345,\n",
       "  'f1': 0.5850052798310454},\n",
       " {'n_estimators': 50,\n",
       "  'max_depth': 13,\n",
       "  'random_state': 12345,\n",
       "  'f1': 0.5850052798310454},\n",
       " {'n_estimators': 50,\n",
       "  'max_depth': 7,\n",
       "  'random_state': 12345,\n",
       "  'f1': 0.5847554038680318},\n",
       " {'n_estimators': 50,\n",
       "  'max_depth': 15,\n",
       "  'random_state': 12345,\n",
       "  'f1': 0.5845511482254697},\n",
       " {'n_estimators': 40,\n",
       "  'max_depth': 11,\n",
       "  'random_state': 12345,\n",
       "  'f1': 0.5828819068255688},\n",
       " {'n_estimators': 40,\n",
       "  'max_depth': 7,\n",
       "  'random_state': 12345,\n",
       "  'f1': 0.5827664399092971},\n",
       " {'n_estimators': 10,\n",
       "  'max_depth': 9,\n",
       "  'random_state': 12345,\n",
       "  'f1': 0.5805084745762712},\n",
       " {'n_estimators': 40,\n",
       "  'max_depth': 9,\n",
       "  'random_state': 12345,\n",
       "  'f1': 0.5801526717557253},\n",
       " {'n_estimators': 20,\n",
       "  'max_depth': 9,\n",
       "  'random_state': 12345,\n",
       "  'f1': 0.5794594594594593},\n",
       " {'n_estimators': 30,\n",
       "  'max_depth': 15,\n",
       "  'random_state': 12345,\n",
       "  'f1': 0.5786694825765576},\n",
       " {'n_estimators': 20,\n",
       "  'max_depth': 15,\n",
       "  'random_state': 12345,\n",
       "  'f1': 0.5771670190274841},\n",
       " {'n_estimators': 20,\n",
       "  'max_depth': 7,\n",
       "  'random_state': 12345,\n",
       "  'f1': 0.5759637188208618},\n",
       " {'n_estimators': 20,\n",
       "  'max_depth': 13,\n",
       "  'random_state': 12345,\n",
       "  'f1': 0.574712643678161},\n",
       " {'n_estimators': 30,\n",
       "  'max_depth': 5,\n",
       "  'random_state': 12345,\n",
       "  'f1': 0.5744934445768772},\n",
       " {'n_estimators': 20,\n",
       "  'max_depth': 5,\n",
       "  'random_state': 12345,\n",
       "  'f1': 0.5717703349282297},\n",
       " {'n_estimators': 10,\n",
       "  'max_depth': 5,\n",
       "  'random_state': 12345,\n",
       "  'f1': 0.5710843373493976},\n",
       " {'n_estimators': 40,\n",
       "  'max_depth': 5,\n",
       "  'random_state': 12345,\n",
       "  'f1': 0.5686746987951808},\n",
       " {'n_estimators': 50,\n",
       "  'max_depth': 5,\n",
       "  'random_state': 12345,\n",
       "  'f1': 0.5673076923076923},\n",
       " {'n_estimators': 10,\n",
       "  'max_depth': 11,\n",
       "  'random_state': 12345,\n",
       "  'f1': 0.565531475748194},\n",
       " {'n_estimators': 10,\n",
       "  'max_depth': 13,\n",
       "  'random_state': 12345,\n",
       "  'f1': 0.5575129533678758},\n",
       " {'n_estimators': 10,\n",
       "  'max_depth': 7,\n",
       "  'random_state': 12345,\n",
       "  'f1': 0.5508571428571429},\n",
       " {'n_estimators': 10,\n",
       "  'max_depth': 15,\n",
       "  'random_state': 12345,\n",
       "  'f1': 0.5486542443064183}]"
      ]
     },
     "execution_count": 36,
     "metadata": {},
     "output_type": "execute_result"
    }
   ],
   "source": [
    "sorted(score_tracker_downsampled, key=lambda x: x['f1'], reverse=True)"
   ]
  },
  {
   "cell_type": "markdown",
   "metadata": {},
   "source": [
    "The best estimator: \n",
    "\n",
    "{'n_estimators': 30,\n",
    "  'max_depth': 9,\n",
    "  'random_state': 12345,\n",
    "  'f1': 0.6006528835690967}"
   ]
  },
  {
   "cell_type": "code",
   "execution_count": 37,
   "metadata": {},
   "outputs": [
    {
     "data": {
      "text/plain": [
       "0.6348808030112923"
      ]
     },
     "execution_count": 37,
     "metadata": {},
     "output_type": "execute_result"
    }
   ],
   "source": [
    "rf = RandomForestClassifier(n_estimators=30, max_depth=9, random_state=12345)\n",
    "rf.fit(features_downsampled_train, target_downsampled_train)\n",
    "f1_score(target_valid, rf.predict(features_valid_scaled))"
   ]
  },
  {
   "cell_type": "code",
   "execution_count": 38,
   "metadata": {},
   "outputs": [
    {
     "name": "stdout",
     "output_type": "stream",
     "text": [
      "0.8565540293549992\n"
     ]
    }
   ],
   "source": [
    "probabilities_valid = rf.predict_proba(features_valid_scaled)\n",
    "probabilities_one_valid = probabilities_valid[:, 1]\n",
    "\n",
    "auc_roc = roc_auc_score(target_valid, probabilities_one_valid)\n",
    "print(auc_roc)"
   ]
  },
  {
   "cell_type": "code",
   "execution_count": 39,
   "metadata": {},
   "outputs": [
    {
     "data": {
      "image/png": "[encoded data removed]",
      "text/plain": [
       "<Figure size 432x288 with 1 Axes>"
      ]
     },
     "metadata": {
      "needs_background": "light"
     },
     "output_type": "display_data"
    }
   ],
   "source": [
    "fpr, tpr, thresholds = roc_curve(target_valid, probabilities_one_valid) \n",
    "\n",
    "plt.figure()\n",
    "\n",
    "plt.plot([0, 1], [0, 1], linestyle='--')\n",
    "plt.plot(fpr, tpr)\n",
    "plt.xlim([0.0, 1.0])\n",
    "plt.ylim([0.0, 1.0])\n",
    "plt.xlabel('False Positive Rate')\n",
    "plt.ylabel('True Positive Rate')\n",
    "plt.title('ROC-кривая')\n",
    "plt.show()"
   ]
  },
  {
   "cell_type": "markdown",
   "metadata": {},
   "source": [
    "Метод уменьшения выборки показал большую эффективность по сравнению с методов увеличением выборки. Величина f1 составила 0.63 vs 0.62, но при этом мы видим, что оба метода работают, в обоих случаях метрики стали лучше. "
   ]
  },
  {
   "cell_type": "markdown",
   "metadata": {},
   "source": [
    "## Тестирование модели"
   ]
  },
  {
   "cell_type": "code",
   "execution_count": 40,
   "metadata": {},
   "outputs": [
    {
     "name": "stdout",
     "output_type": "stream",
     "text": [
      "Accuracy: 0.855\n",
      "F1: 0.611260053619303\n"
     ]
    }
   ],
   "source": [
    "predictions = rf.predict(features_test_scaled)\n",
    "print(\"Accuracy:\", accuracy_score(predictions, target_test))\n",
    "print(\"F1:\", f1_score(predictions, target_test))"
   ]
  },
  {
   "cell_type": "code",
   "execution_count": 41,
   "metadata": {},
   "outputs": [
    {
     "name": "stdout",
     "output_type": "stream",
     "text": [
      "0.8536038276069922\n"
     ]
    }
   ],
   "source": [
    "probabilities_test = rf.predict_proba(features_test_scaled)\n",
    "probabilities_one_test = probabilities_test[:, 1]\n",
    "\n",
    "auc_roc = roc_auc_score(target_test, probabilities_one_test)\n",
    "print(auc_roc)"
   ]
  },
  {
   "cell_type": "code",
   "execution_count": 42,
   "metadata": {},
   "outputs": [
    {
     "data": {
      "image/png": "[encoded data removed]",
      "text/plain": [
       "<Figure size 432x288 with 1 Axes>"
      ]
     },
     "metadata": {
      "needs_background": "light"
     },
     "output_type": "display_data"
    }
   ],
   "source": [
    "fpr, tpr, thresholds = roc_curve(target_test, probabilities_one_test) \n",
    "\n",
    "plt.figure()\n",
    "\n",
    "plt.plot([0, 1], [0, 1], linestyle='--')\n",
    "plt.plot(fpr, tpr)\n",
    "plt.xlim([0.0, 1.0])\n",
    "plt.ylim([0.0, 1.0])\n",
    "plt.xlabel('False Positive Rate')\n",
    "plt.ylabel('True Positive Rate')\n",
    "plt.title('ROC-кривая')\n",
    "plt.show()"
   ]
  },
  {
   "cell_type": "markdown",
   "metadata": {},
   "source": [
    "## Выводы"
   ]
  },
  {
   "cell_type": "markdown",
   "metadata": {},
   "source": [
    "- Проведен анализ данных. Выявлен дисбаланс данных ~ 4 к 1\n",
    "- Провели подготовку признаков используя методы OHE и масштабирования\n",
    "- Исселодвали модели на дисбалансных данных. Лучший результат показала модель Случайный лес. f1 = 0.59\n",
    "- Провели увеличение и уменьшение выборки. Метод уменьшения оказался более эффективным. f1 = 0.63\n",
    "- На тестовой выборке результат f1 составил 0.61. Показатель AUC-ROC = 0.85"
   ]
  }
 ],
 "metadata": {
  "ExecuteTimeLog": [
   {
    "duration": 1862,
    "start_time": "2022-04-15T08:15:08.597Z"
   },
   {
    "duration": 232,
    "start_time": "2022-04-15T08:15:23.904Z"
   },
   {
    "duration": 40,
    "start_time": "2022-04-15T08:16:01.998Z"
   },
   {
    "duration": 31,
    "start_time": "2022-04-15T08:16:51.205Z"
   },
   {
    "duration": 20,
    "start_time": "2022-04-15T09:26:56.968Z"
   },
   {
    "duration": 44,
    "start_time": "2022-04-15T09:27:11.863Z"
   },
   {
    "duration": 13,
    "start_time": "2022-04-15T09:32:17.783Z"
   },
   {
    "duration": 31,
    "start_time": "2022-04-15T09:32:55.109Z"
   },
   {
    "duration": 7,
    "start_time": "2022-04-15T09:33:04.305Z"
   },
   {
    "duration": 20,
    "start_time": "2022-04-15T09:33:16.403Z"
   },
   {
    "duration": 1796,
    "start_time": "2022-04-15T09:33:22.278Z"
   },
   {
    "duration": 41,
    "start_time": "2022-04-15T09:33:24.078Z"
   },
   {
    "duration": 34,
    "start_time": "2022-04-15T09:33:24.121Z"
   },
   {
    "duration": 6,
    "start_time": "2022-04-15T09:33:24.158Z"
   },
   {
    "duration": 27,
    "start_time": "2022-04-15T09:33:24.167Z"
   },
   {
    "duration": 59,
    "start_time": "2022-04-15T09:33:24.219Z"
   },
   {
    "duration": 5,
    "start_time": "2022-04-15T09:50:13.189Z"
   },
   {
    "duration": 5,
    "start_time": "2022-04-15T09:50:23.116Z"
   },
   {
    "duration": 15,
    "start_time": "2022-04-15T09:50:41.856Z"
   },
   {
    "duration": 1650,
    "start_time": "2022-04-16T09:59:12.734Z"
   },
   {
    "duration": 32,
    "start_time": "2022-04-16T09:59:14.386Z"
   },
   {
    "duration": 18,
    "start_time": "2022-04-16T09:59:14.420Z"
   },
   {
    "duration": 4,
    "start_time": "2022-04-16T09:59:14.440Z"
   },
   {
    "duration": 15,
    "start_time": "2022-04-16T09:59:14.446Z"
   },
   {
    "duration": 65,
    "start_time": "2022-04-16T09:59:14.463Z"
   },
   {
    "duration": 4,
    "start_time": "2022-04-16T09:59:14.530Z"
   },
   {
    "duration": 15,
    "start_time": "2022-04-16T09:59:14.536Z"
   },
   {
    "duration": 155,
    "start_time": "2022-04-16T09:59:41.443Z"
   },
   {
    "duration": 130,
    "start_time": "2022-04-16T09:59:47.919Z"
   },
   {
    "duration": 11,
    "start_time": "2022-04-16T15:18:44.444Z"
   },
   {
    "duration": 13,
    "start_time": "2022-04-16T15:21:12.666Z"
   },
   {
    "duration": 4,
    "start_time": "2022-04-16T15:21:46.445Z"
   },
   {
    "duration": 6,
    "start_time": "2022-04-16T15:22:21.971Z"
   },
   {
    "duration": 6,
    "start_time": "2022-04-16T15:22:40.026Z"
   },
   {
    "duration": 12,
    "start_time": "2022-04-16T15:24:15.222Z"
   },
   {
    "duration": 118,
    "start_time": "2022-04-16T15:27:00.331Z"
   },
   {
    "duration": 52,
    "start_time": "2022-04-16T15:27:06.873Z"
   },
   {
    "duration": 7,
    "start_time": "2022-04-16T15:27:33.352Z"
   },
   {
    "duration": 6,
    "start_time": "2022-04-16T15:27:33.781Z"
   },
   {
    "duration": 43,
    "start_time": "2022-04-16T15:27:34.726Z"
   },
   {
    "duration": 130,
    "start_time": "2022-04-16T15:30:35.225Z"
   },
   {
    "duration": 16,
    "start_time": "2022-04-16T15:31:06.795Z"
   },
   {
    "duration": 5,
    "start_time": "2022-04-16T15:31:20.705Z"
   },
   {
    "duration": 15,
    "start_time": "2022-04-16T15:31:24.903Z"
   },
   {
    "duration": 251,
    "start_time": "2022-04-16T15:31:52.236Z"
   },
   {
    "duration": 27921,
    "start_time": "2022-04-16T15:37:43.297Z"
   },
   {
    "duration": 27289,
    "start_time": "2022-04-16T15:39:31.208Z"
   },
   {
    "duration": 4,
    "start_time": "2022-04-16T15:45:24.050Z"
   },
   {
    "duration": 19,
    "start_time": "2022-04-16T15:46:23.093Z"
   },
   {
    "duration": 33489,
    "start_time": "2022-04-16T15:49:05.444Z"
   },
   {
    "duration": 31851,
    "start_time": "2022-04-16T15:50:26.698Z"
   },
   {
    "duration": 34818,
    "start_time": "2022-04-16T15:51:48.443Z"
   },
   {
    "duration": 5,
    "start_time": "2022-04-16T15:53:12.993Z"
   },
   {
    "duration": 30608,
    "start_time": "2022-04-16T15:53:30.913Z"
   },
   {
    "duration": 30367,
    "start_time": "2022-04-16T15:54:53.861Z"
   },
   {
    "duration": 16,
    "start_time": "2022-04-16T15:56:18.188Z"
   },
   {
    "duration": 41482,
    "start_time": "2022-04-16T15:56:57.695Z"
   },
   {
    "duration": 6,
    "start_time": "2022-04-16T15:59:32.193Z"
   },
   {
    "duration": 15,
    "start_time": "2022-04-16T16:01:29.222Z"
   },
   {
    "duration": 22805,
    "start_time": "2022-04-16T16:01:48.144Z"
   },
   {
    "duration": 10,
    "start_time": "2022-04-16T16:03:38.566Z"
   },
   {
    "duration": 22753,
    "start_time": "2022-04-16T16:04:14.944Z"
   },
   {
    "duration": 23692,
    "start_time": "2022-04-16T16:04:44.648Z"
   },
   {
    "duration": 35,
    "start_time": "2022-04-16T16:05:08.343Z"
   },
   {
    "duration": 4,
    "start_time": "2022-04-16T16:09:09.646Z"
   },
   {
    "duration": 15,
    "start_time": "2022-04-16T16:09:14.819Z"
   },
   {
    "duration": 24,
    "start_time": "2022-04-16T16:09:48.525Z"
   },
   {
    "duration": 24,
    "start_time": "2022-04-16T16:10:02.440Z"
   },
   {
    "duration": 28,
    "start_time": "2022-04-16T16:10:14.373Z"
   },
   {
    "duration": 25,
    "start_time": "2022-04-16T16:10:33.409Z"
   },
   {
    "duration": 170,
    "start_time": "2022-04-16T16:12:05.877Z"
   },
   {
    "duration": 220,
    "start_time": "2022-04-16T16:12:43.178Z"
   },
   {
    "duration": 1830,
    "start_time": "2022-04-16T16:12:49.920Z"
   },
   {
    "duration": 27,
    "start_time": "2022-04-16T16:12:51.752Z"
   },
   {
    "duration": 30,
    "start_time": "2022-04-16T16:12:51.780Z"
   },
   {
    "duration": 24,
    "start_time": "2022-04-16T16:12:51.814Z"
   },
   {
    "duration": 16,
    "start_time": "2022-04-16T16:12:51.841Z"
   },
   {
    "duration": 56,
    "start_time": "2022-04-16T16:12:51.860Z"
   },
   {
    "duration": 6,
    "start_time": "2022-04-16T16:12:51.918Z"
   },
   {
    "duration": 24,
    "start_time": "2022-04-16T16:12:51.926Z"
   },
   {
    "duration": 193,
    "start_time": "2022-04-16T16:12:51.952Z"
   },
   {
    "duration": 17,
    "start_time": "2022-04-16T16:12:52.148Z"
   },
   {
    "duration": 20,
    "start_time": "2022-04-16T16:12:52.167Z"
   },
   {
    "duration": 6,
    "start_time": "2022-04-16T16:12:52.192Z"
   },
   {
    "duration": 37,
    "start_time": "2022-04-16T16:12:52.201Z"
   },
   {
    "duration": 7,
    "start_time": "2022-04-16T16:12:52.242Z"
   },
   {
    "duration": 146,
    "start_time": "2022-04-16T16:12:52.251Z"
   },
   {
    "duration": 34341,
    "start_time": "2022-04-16T16:12:52.402Z"
   },
   {
    "duration": 5,
    "start_time": "2022-04-16T16:13:26.745Z"
   },
   {
    "duration": 20,
    "start_time": "2022-04-16T16:13:26.752Z"
   },
   {
    "duration": 313,
    "start_time": "2022-04-16T16:13:26.774Z"
   },
   {
    "duration": 23,
    "start_time": "2022-04-16T16:13:27.090Z"
   },
   {
    "duration": 0,
    "start_time": "2022-04-16T16:13:27.115Z"
   },
   {
    "duration": 0,
    "start_time": "2022-04-16T16:13:27.117Z"
   },
   {
    "duration": 1,
    "start_time": "2022-04-16T16:13:27.117Z"
   },
   {
    "duration": 0,
    "start_time": "2022-04-16T16:13:27.121Z"
   },
   {
    "duration": 0,
    "start_time": "2022-04-16T16:13:27.123Z"
   },
   {
    "duration": 0,
    "start_time": "2022-04-16T16:13:27.125Z"
   },
   {
    "duration": 0,
    "start_time": "2022-04-16T16:13:27.126Z"
   },
   {
    "duration": 2021,
    "start_time": "2022-04-16T16:14:18.535Z"
   },
   {
    "duration": 27,
    "start_time": "2022-04-16T16:14:20.559Z"
   },
   {
    "duration": 36,
    "start_time": "2022-04-16T16:14:20.588Z"
   },
   {
    "duration": 27,
    "start_time": "2022-04-16T16:14:20.626Z"
   },
   {
    "duration": 17,
    "start_time": "2022-04-16T16:14:20.656Z"
   },
   {
    "duration": 67,
    "start_time": "2022-04-16T16:14:20.676Z"
   },
   {
    "duration": 8,
    "start_time": "2022-04-16T16:14:20.746Z"
   },
   {
    "duration": 26,
    "start_time": "2022-04-16T16:14:20.756Z"
   },
   {
    "duration": 282,
    "start_time": "2022-04-16T16:14:20.784Z"
   },
   {
    "duration": 12,
    "start_time": "2022-04-16T16:14:21.068Z"
   },
   {
    "duration": 27,
    "start_time": "2022-04-16T16:14:21.082Z"
   },
   {
    "duration": 8,
    "start_time": "2022-04-16T16:14:21.111Z"
   },
   {
    "duration": 30,
    "start_time": "2022-04-16T16:14:21.122Z"
   },
   {
    "duration": 8,
    "start_time": "2022-04-16T16:14:21.156Z"
   },
   {
    "duration": 158,
    "start_time": "2022-04-16T16:14:21.166Z"
   },
   {
    "duration": 34649,
    "start_time": "2022-04-16T16:14:21.329Z"
   },
   {
    "duration": 4,
    "start_time": "2022-04-16T16:14:55.981Z"
   },
   {
    "duration": 21,
    "start_time": "2022-04-16T16:14:55.993Z"
   },
   {
    "duration": 48071,
    "start_time": "2022-04-16T16:14:56.017Z"
   },
   {
    "duration": 33,
    "start_time": "2022-04-16T16:15:44.093Z"
   },
   {
    "duration": 159,
    "start_time": "2022-04-16T16:15:44.129Z"
   },
   {
    "duration": 5,
    "start_time": "2022-04-16T16:15:44.289Z"
   },
   {
    "duration": 14,
    "start_time": "2022-04-16T16:15:44.296Z"
   },
   {
    "duration": 19470,
    "start_time": "2022-04-16T16:15:44.312Z"
   },
   {
    "duration": 30,
    "start_time": "2022-04-16T16:16:03.784Z"
   },
   {
    "duration": 133,
    "start_time": "2022-04-16T16:16:03.816Z"
   },
   {
    "duration": 27,
    "start_time": "2022-04-16T16:16:03.950Z"
   },
   {
    "duration": 32,
    "start_time": "2022-04-16T16:17:40.172Z"
   },
   {
    "duration": 133,
    "start_time": "2022-04-16T16:18:00.448Z"
   },
   {
    "duration": 2668,
    "start_time": "2022-04-21T08:19:33.333Z"
   },
   {
    "duration": 36,
    "start_time": "2022-04-21T08:19:38.586Z"
   },
   {
    "duration": 25,
    "start_time": "2022-04-21T08:19:39.111Z"
   },
   {
    "duration": 6,
    "start_time": "2022-04-21T08:19:41.472Z"
   },
   {
    "duration": 18,
    "start_time": "2022-04-21T08:19:42.094Z"
   },
   {
    "duration": 55,
    "start_time": "2022-04-21T08:19:44.186Z"
   },
   {
    "duration": 4,
    "start_time": "2022-04-21T08:19:44.830Z"
   },
   {
    "duration": 16,
    "start_time": "2022-04-21T08:19:46.999Z"
   },
   {
    "duration": 213,
    "start_time": "2022-04-21T08:19:49.962Z"
   },
   {
    "duration": 16,
    "start_time": "2022-04-21T08:19:53.507Z"
   },
   {
    "duration": 4,
    "start_time": "2022-04-21T08:19:55.319Z"
   },
   {
    "duration": 8,
    "start_time": "2022-04-21T08:19:56.032Z"
   },
   {
    "duration": 9,
    "start_time": "2022-04-21T08:20:00.254Z"
   },
   {
    "duration": 8,
    "start_time": "2022-04-21T08:20:00.646Z"
   },
   {
    "duration": 4,
    "start_time": "2022-04-21T08:20:01.755Z"
   },
   {
    "duration": 12,
    "start_time": "2022-04-21T08:20:03.086Z"
   },
   {
    "duration": 36,
    "start_time": "2022-04-21T08:20:29.845Z"
   },
   {
    "duration": 21,
    "start_time": "2022-04-21T08:20:53.758Z"
   },
   {
    "duration": 36,
    "start_time": "2022-04-21T08:22:15.738Z"
   },
   {
    "duration": 8,
    "start_time": "2022-04-21T08:23:49.864Z"
   },
   {
    "duration": 162,
    "start_time": "2022-04-21T08:24:13.570Z"
   },
   {
    "duration": 9,
    "start_time": "2022-04-21T08:24:34.065Z"
   },
   {
    "duration": 24,
    "start_time": "2022-04-21T08:25:56.730Z"
   },
   {
    "duration": 33,
    "start_time": "2022-04-21T08:27:00.837Z"
   },
   {
    "duration": 120,
    "start_time": "2022-04-21T08:27:29.764Z"
   },
   {
    "duration": 22861,
    "start_time": "2022-04-21T08:27:52.814Z"
   },
   {
    "duration": 6,
    "start_time": "2022-04-21T08:30:02.771Z"
   },
   {
    "duration": 17,
    "start_time": "2022-04-21T08:30:03.903Z"
   },
   {
    "duration": 7,
    "start_time": "2022-04-21T08:30:50.858Z"
   },
   {
    "duration": 15,
    "start_time": "2022-04-21T08:31:10.039Z"
   },
   {
    "duration": 5,
    "start_time": "2022-04-21T08:32:23.033Z"
   },
   {
    "duration": 5,
    "start_time": "2022-04-21T08:38:56.496Z"
   },
   {
    "duration": 18,
    "start_time": "2022-04-21T08:39:19.346Z"
   },
   {
    "duration": 3,
    "start_time": "2022-04-21T08:39:41.114Z"
   },
   {
    "duration": 19,
    "start_time": "2022-04-21T08:43:33.621Z"
   },
   {
    "duration": 5,
    "start_time": "2022-04-21T08:48:24.329Z"
   },
   {
    "duration": 59425,
    "start_time": "2022-04-21T09:08:47.926Z"
   },
   {
    "duration": 14,
    "start_time": "2022-04-21T09:11:28.065Z"
   },
   {
    "duration": 65726,
    "start_time": "2022-04-21T09:12:05.733Z"
   },
   {
    "duration": 48554,
    "start_time": "2022-04-21T09:13:48.208Z"
   },
   {
    "duration": 14497,
    "start_time": "2022-04-21T09:15:01.006Z"
   },
   {
    "duration": 3634,
    "start_time": "2022-04-21T09:16:11.504Z"
   },
   {
    "duration": 823,
    "start_time": "2022-04-21T09:17:47.117Z"
   },
   {
    "duration": 821,
    "start_time": "2022-04-21T09:18:02.585Z"
   },
   {
    "duration": 3150,
    "start_time": "2022-04-21T09:19:36.763Z"
   },
   {
    "duration": 7,
    "start_time": "2022-04-21T09:43:50.953Z"
   },
   {
    "duration": 4,
    "start_time": "2022-04-21T09:44:47.518Z"
   },
   {
    "duration": 149,
    "start_time": "2022-04-21T09:45:53.283Z"
   },
   {
    "duration": 148,
    "start_time": "2022-04-21T09:47:09.487Z"
   },
   {
    "duration": 191,
    "start_time": "2022-04-21T09:47:51.944Z"
   },
   {
    "duration": 158,
    "start_time": "2022-04-21T09:49:00.294Z"
   },
   {
    "duration": 234,
    "start_time": "2022-04-21T09:49:15.133Z"
   },
   {
    "duration": 8,
    "start_time": "2022-04-21T09:49:48.956Z"
   },
   {
    "duration": 187,
    "start_time": "2022-04-21T09:49:58.539Z"
   },
   {
    "duration": 5,
    "start_time": "2022-04-21T09:58:47.316Z"
   },
   {
    "duration": 9,
    "start_time": "2022-04-21T09:58:55.447Z"
   },
   {
    "duration": 147,
    "start_time": "2022-04-21T09:58:57.730Z"
   },
   {
    "duration": 7,
    "start_time": "2022-04-21T10:05:19.192Z"
   },
   {
    "duration": 142,
    "start_time": "2022-04-21T10:05:20.982Z"
   },
   {
    "duration": 8,
    "start_time": "2022-04-21T10:06:10.566Z"
   },
   {
    "duration": 2619,
    "start_time": "2022-04-21T10:06:11.414Z"
   },
   {
    "duration": 9,
    "start_time": "2022-04-21T10:06:39.821Z"
   },
   {
    "duration": 7,
    "start_time": "2022-04-21T10:08:12.727Z"
   },
   {
    "duration": 31502,
    "start_time": "2022-04-21T10:08:19.203Z"
   },
   {
    "duration": 12,
    "start_time": "2022-04-21T10:09:07.867Z"
   },
   {
    "duration": 33,
    "start_time": "2022-04-21T10:11:15.701Z"
   },
   {
    "duration": 7,
    "start_time": "2022-04-21T10:12:53.049Z"
   },
   {
    "duration": 40,
    "start_time": "2022-04-21T10:12:53.946Z"
   },
   {
    "duration": 29,
    "start_time": "2022-04-21T10:12:54.155Z"
   },
   {
    "duration": 6,
    "start_time": "2022-04-21T10:12:56.342Z"
   },
   {
    "duration": 16,
    "start_time": "2022-04-21T10:12:56.670Z"
   },
   {
    "duration": 50,
    "start_time": "2022-04-21T10:12:58.874Z"
   },
   {
    "duration": 6,
    "start_time": "2022-04-21T10:12:59.390Z"
   },
   {
    "duration": 17,
    "start_time": "2022-04-21T10:12:59.768Z"
   },
   {
    "duration": 192,
    "start_time": "2022-04-21T10:13:03.100Z"
   },
   {
    "duration": 15,
    "start_time": "2022-04-21T10:13:06.725Z"
   },
   {
    "duration": 3,
    "start_time": "2022-04-21T10:13:10.809Z"
   },
   {
    "duration": 6,
    "start_time": "2022-04-21T10:13:11.663Z"
   },
   {
    "duration": 8,
    "start_time": "2022-04-21T10:13:57.505Z"
   },
   {
    "duration": 7,
    "start_time": "2022-04-21T10:13:57.870Z"
   },
   {
    "duration": 4,
    "start_time": "2022-04-21T10:13:58.717Z"
   },
   {
    "duration": 9,
    "start_time": "2022-04-21T10:13:59.746Z"
   },
   {
    "duration": 35,
    "start_time": "2022-04-21T10:14:00.356Z"
   },
   {
    "duration": 58,
    "start_time": "2022-04-21T10:14:11.424Z"
   },
   {
    "duration": 38066,
    "start_time": "2022-04-21T10:14:23.125Z"
   },
   {
    "duration": 8,
    "start_time": "2022-04-21T10:16:42.251Z"
   },
   {
    "duration": 8,
    "start_time": "2022-04-21T10:16:42.716Z"
   },
   {
    "duration": 4,
    "start_time": "2022-04-21T10:16:43.664Z"
   },
   {
    "duration": 11,
    "start_time": "2022-04-21T10:16:44.029Z"
   },
   {
    "duration": 36,
    "start_time": "2022-04-21T10:16:44.352Z"
   },
   {
    "duration": 40,
    "start_time": "2022-04-21T10:16:46.866Z"
   },
   {
    "duration": 31377,
    "start_time": "2022-04-21T10:16:50.018Z"
   },
   {
    "duration": 5,
    "start_time": "2022-04-21T10:17:28.647Z"
   },
   {
    "duration": 14,
    "start_time": "2022-04-21T10:17:29.066Z"
   },
   {
    "duration": 7,
    "start_time": "2022-04-21T10:17:38.151Z"
   },
   {
    "duration": 36638,
    "start_time": "2022-04-21T10:17:40.248Z"
   },
   {
    "duration": 10,
    "start_time": "2022-04-21T10:18:16.889Z"
   },
   {
    "duration": 443,
    "start_time": "2022-04-21T10:24:22.703Z"
   },
   {
    "duration": 525,
    "start_time": "2022-04-21T10:24:28.874Z"
   },
   {
    "duration": 481,
    "start_time": "2022-04-21T10:27:16.933Z"
   },
   {
    "duration": 477,
    "start_time": "2022-04-21T10:27:41.453Z"
   },
   {
    "duration": 461,
    "start_time": "2022-04-21T10:27:54.657Z"
   },
   {
    "duration": 28,
    "start_time": "2022-04-21T10:28:03.214Z"
   },
   {
    "duration": 200,
    "start_time": "2022-04-21T10:28:25.199Z"
   },
   {
    "duration": 458,
    "start_time": "2022-04-21T10:28:49.101Z"
   },
   {
    "duration": 30,
    "start_time": "2022-04-21T10:29:37.103Z"
   },
   {
    "duration": 180,
    "start_time": "2022-04-21T10:29:48.347Z"
   },
   {
    "duration": 6,
    "start_time": "2022-04-21T10:32:09.428Z"
   },
   {
    "duration": 6,
    "start_time": "2022-04-21T10:32:17.699Z"
   },
   {
    "duration": 15,
    "start_time": "2022-04-21T10:32:18.114Z"
   },
   {
    "duration": 10,
    "start_time": "2022-04-21T10:32:18.547Z"
   },
   {
    "duration": 151,
    "start_time": "2022-04-21T10:33:08.732Z"
   },
   {
    "duration": 5,
    "start_time": "2022-04-21T10:33:42.410Z"
   },
   {
    "duration": 15,
    "start_time": "2022-04-21T10:33:42.903Z"
   },
   {
    "duration": 7,
    "start_time": "2022-04-21T10:33:43.437Z"
   },
   {
    "duration": 21946,
    "start_time": "2022-04-21T10:33:45.002Z"
   },
   {
    "duration": 12,
    "start_time": "2022-04-21T10:34:31.170Z"
   },
   {
    "duration": 180,
    "start_time": "2022-04-21T10:36:18.582Z"
   },
   {
    "duration": 178,
    "start_time": "2022-04-21T10:37:20.693Z"
   },
   {
    "duration": 21,
    "start_time": "2022-04-21T10:39:12.000Z"
   },
   {
    "duration": 183,
    "start_time": "2022-04-21T10:39:13.135Z"
   },
   {
    "duration": 6,
    "start_time": "2022-04-21T10:40:54.966Z"
   },
   {
    "duration": 14,
    "start_time": "2022-04-21T10:40:55.733Z"
   },
   {
    "duration": 7,
    "start_time": "2022-04-21T10:40:56.538Z"
   },
   {
    "duration": 21276,
    "start_time": "2022-04-21T10:40:58.765Z"
   },
   {
    "duration": 10,
    "start_time": "2022-04-21T10:41:23.215Z"
   },
   {
    "duration": 175,
    "start_time": "2022-04-21T10:42:32.793Z"
   },
   {
    "duration": 14,
    "start_time": "2022-04-21T10:43:10.521Z"
   },
   {
    "duration": 8,
    "start_time": "2022-04-21T10:43:11.638Z"
   },
   {
    "duration": 21445,
    "start_time": "2022-04-21T10:43:12.638Z"
   },
   {
    "duration": 11,
    "start_time": "2022-04-21T10:43:36.169Z"
   },
   {
    "duration": 177,
    "start_time": "2022-04-21T10:43:40.592Z"
   },
   {
    "duration": 24,
    "start_time": "2022-04-21T10:43:43.206Z"
   },
   {
    "duration": 180,
    "start_time": "2022-04-21T10:43:44.023Z"
   },
   {
    "duration": 25,
    "start_time": "2022-04-21T10:44:49.255Z"
   },
   {
    "duration": 21,
    "start_time": "2022-04-21T10:44:58.565Z"
   },
   {
    "duration": 210,
    "start_time": "2022-04-21T10:45:01.340Z"
   },
   {
    "duration": 24,
    "start_time": "2022-04-21T10:45:08.344Z"
   },
   {
    "duration": 180,
    "start_time": "2022-04-21T10:45:09.012Z"
   },
   {
    "duration": 1878,
    "start_time": "2022-04-21T10:52:46.010Z"
   },
   {
    "duration": 30,
    "start_time": "2022-04-21T10:52:47.892Z"
   },
   {
    "duration": 26,
    "start_time": "2022-04-21T10:52:47.924Z"
   },
   {
    "duration": 6,
    "start_time": "2022-04-21T10:52:47.954Z"
   },
   {
    "duration": 20,
    "start_time": "2022-04-21T10:52:47.982Z"
   },
   {
    "duration": 49,
    "start_time": "2022-04-21T10:52:48.004Z"
   },
   {
    "duration": 29,
    "start_time": "2022-04-21T10:52:48.056Z"
   },
   {
    "duration": 17,
    "start_time": "2022-04-21T10:52:48.088Z"
   },
   {
    "duration": 237,
    "start_time": "2022-04-21T10:52:48.107Z"
   },
   {
    "duration": 15,
    "start_time": "2022-04-21T10:52:48.347Z"
   },
   {
    "duration": 4,
    "start_time": "2022-04-21T10:52:48.364Z"
   },
   {
    "duration": 6,
    "start_time": "2022-04-21T10:52:48.382Z"
   },
   {
    "duration": 8,
    "start_time": "2022-04-21T10:52:48.390Z"
   },
   {
    "duration": 8,
    "start_time": "2022-04-21T10:52:48.400Z"
   },
   {
    "duration": 5,
    "start_time": "2022-04-21T10:52:48.410Z"
   },
   {
    "duration": 14,
    "start_time": "2022-04-21T10:52:48.417Z"
   },
   {
    "duration": 73,
    "start_time": "2022-04-21T10:52:48.433Z"
   },
   {
    "duration": 79,
    "start_time": "2022-04-21T10:52:48.509Z"
   },
   {
    "duration": 31387,
    "start_time": "2022-04-21T10:52:48.591Z"
   },
   {
    "duration": 5,
    "start_time": "2022-04-21T10:53:19.983Z"
   },
   {
    "duration": 42,
    "start_time": "2022-04-21T10:53:19.991Z"
   },
   {
    "duration": 11,
    "start_time": "2022-04-21T10:53:20.036Z"
   },
   {
    "duration": 177,
    "start_time": "2022-04-21T10:53:20.049Z"
   },
   {
    "duration": 0,
    "start_time": "2022-04-21T10:53:20.230Z"
   },
   {
    "duration": 0,
    "start_time": "2022-04-21T10:53:20.231Z"
   },
   {
    "duration": 0,
    "start_time": "2022-04-21T10:53:20.233Z"
   },
   {
    "duration": 0,
    "start_time": "2022-04-21T10:53:20.234Z"
   },
   {
    "duration": 0,
    "start_time": "2022-04-21T10:53:20.236Z"
   },
   {
    "duration": 0,
    "start_time": "2022-04-21T10:53:20.238Z"
   },
   {
    "duration": 0,
    "start_time": "2022-04-21T10:53:20.240Z"
   },
   {
    "duration": 0,
    "start_time": "2022-04-21T10:53:20.241Z"
   },
   {
    "duration": 0,
    "start_time": "2022-04-21T10:53:20.243Z"
   },
   {
    "duration": 0,
    "start_time": "2022-04-21T10:53:20.244Z"
   },
   {
    "duration": 0,
    "start_time": "2022-04-21T10:53:20.246Z"
   },
   {
    "duration": 0,
    "start_time": "2022-04-21T10:53:20.248Z"
   },
   {
    "duration": 0,
    "start_time": "2022-04-21T10:53:20.282Z"
   },
   {
    "duration": 0,
    "start_time": "2022-04-21T10:53:20.283Z"
   },
   {
    "duration": 0,
    "start_time": "2022-04-21T10:53:20.284Z"
   },
   {
    "duration": 18,
    "start_time": "2022-04-21T10:54:37.035Z"
   },
   {
    "duration": 4,
    "start_time": "2022-04-21T10:54:45.212Z"
   },
   {
    "duration": 36329,
    "start_time": "2022-04-21T10:54:52.030Z"
   },
   {
    "duration": 36495,
    "start_time": "2022-04-21T10:55:34.076Z"
   },
   {
    "duration": 15,
    "start_time": "2022-04-21T10:56:10.574Z"
   },
   {
    "duration": 472,
    "start_time": "2022-04-21T10:56:10.592Z"
   },
   {
    "duration": 35,
    "start_time": "2022-04-21T10:56:11.068Z"
   },
   {
    "duration": 199,
    "start_time": "2022-04-21T10:56:11.105Z"
   },
   {
    "duration": 7,
    "start_time": "2022-04-21T10:56:11.307Z"
   },
   {
    "duration": 17,
    "start_time": "2022-04-21T10:56:11.317Z"
   },
   {
    "duration": 8,
    "start_time": "2022-04-21T10:56:11.337Z"
   },
   {
    "duration": 22214,
    "start_time": "2022-04-21T10:56:11.348Z"
   },
   {
    "duration": 17,
    "start_time": "2022-04-21T10:56:33.566Z"
   },
   {
    "duration": 197,
    "start_time": "2022-04-21T10:56:33.586Z"
   },
   {
    "duration": 26,
    "start_time": "2022-04-21T10:56:33.785Z"
   },
   {
    "duration": 208,
    "start_time": "2022-04-21T10:56:33.814Z"
   },
   {
    "duration": 27,
    "start_time": "2022-04-21T10:56:34.025Z"
   },
   {
    "duration": 44,
    "start_time": "2022-04-21T10:56:34.055Z"
   },
   {
    "duration": 196,
    "start_time": "2022-04-21T10:56:34.101Z"
   },
   {
    "duration": 72,
    "start_time": "2022-05-06T09:29:06.369Z"
   },
   {
    "duration": 8,
    "start_time": "2022-05-06T09:29:06.812Z"
   },
   {
    "duration": 1397,
    "start_time": "2022-06-02T10:01:02.733Z"
   },
   {
    "duration": 75,
    "start_time": "2022-06-02T10:01:05.048Z"
   },
   {
    "duration": 93,
    "start_time": "2022-06-02T10:01:05.878Z"
   },
   {
    "duration": 18,
    "start_time": "2022-06-02T10:01:06.561Z"
   },
   {
    "duration": 6,
    "start_time": "2022-06-02T10:01:09.816Z"
   },
   {
    "duration": 25,
    "start_time": "2022-06-02T10:01:10.351Z"
   }
  ],
  "kernelspec": {
   "display_name": "Python 3",
   "language": "python",
   "name": "python3"
  },
  "language_info": {
   "codemirror_mode": {
    "name": "ipython",
    "version": 3
   },
   "file_extension": ".py",
   "mimetype": "text/x-python",
   "name": "python",
   "nbconvert_exporter": "python",
   "pygments_lexer": "ipython3",
   "version": "3.8.8"
  },
  "toc": {
   "base_numbering": 1,
   "nav_menu": {},
   "number_sections": true,
   "sideBar": true,
   "skip_h1_title": true,
   "title_cell": "Содержание",
   "title_sidebar": "Contents",
   "toc_cell": true,
   "toc_position": {
    "height": "872.222px",
    "left": "40px",
    "top": "147.441px",
    "width": "409.097px"
   },
   "toc_section_display": true,
   "toc_window_display": false
  }
 },
 "nbformat": 4,
 "nbformat_minor": 2
}
